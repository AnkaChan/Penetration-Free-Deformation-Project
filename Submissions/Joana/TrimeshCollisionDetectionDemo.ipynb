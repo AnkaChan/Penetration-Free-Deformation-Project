{
 "cells": [
  {
   "cell_type": "code",
   "execution_count": 1,
   "id": "7167e001-cd19-4f4b-949a-926ef9fdb07f",
   "metadata": {
    "editable": true,
    "slideshow": {
     "slide_type": ""
    },
    "tags": []
   },
   "outputs": [
    {
     "name": "stdout",
     "output_type": "stream",
     "text": [
      "Warp DeprecationWarning: The `warp.sim` module is deprecated and will be removed in v1.10. Please transition to using the forthcoming Newton library instead.\n"
     ]
    }
   ],
   "source": [
    "import warp as wp\n",
    "import numpy as np\n",
    "import trimesh\n",
    "import polyscope as ps\n",
    "import gpytoolbox as gpy\n",
    "\n",
    "from warp.sim.collide import TriMeshCollisionDetector"
   ]
  },
  {
   "cell_type": "code",
   "execution_count": 2,
   "id": "9ac372a4-37b8-4895-866a-0e3027c3af08",
   "metadata": {},
   "outputs": [
    {
     "name": "stdout",
     "output_type": "stream",
     "text": [
      "Warp 1.8.0 initialized:\n",
      "   CUDA Toolkit 12.8, Driver 12.6\n",
      "   Devices:\n",
      "     \"cpu\"      : \"Intel64 Family 6 Model 186 Stepping 2, GenuineIntel\"\n",
      "     \"cuda:0\"   : \"NVIDIA GeForce RTX 3050 6GB Laptop GPU\" (6 GiB, sm_86, mempool enabled)\n",
      "   Kernel cache:\n",
      "     C:\\Users\\joana\\AppData\\Local\\NVIDIA\\warp\\Cache\\1.8.0\n"
     ]
    }
   ],
   "source": [
    "device = wp.get_device('cuda')\n",
    "# if you don't have a CUDA-compatible GPU try switching to CPU\n",
    "# device = wp.get_device('cpu')"
   ]
  },
  {
   "cell_type": "code",
   "execution_count": 3,
   "id": "12284548-4b78-4079-a39c-f36565a9d842",
   "metadata": {
    "editable": true,
    "slideshow": {
     "slide_type": ""
    },
    "tags": []
   },
   "outputs": [],
   "source": [
    "mesh = trimesh.load(\"C:/Users/joana/Downloads/Task_1_Bounds_computation/Triangular_Meshes/A00000500.ply\")"
   ]
  },
  {
   "cell_type": "code",
   "execution_count": 4,
   "id": "4ab1ae4a",
   "metadata": {},
   "outputs": [],
   "source": [
    "def viz_mesh():\n",
    "    V, F = gpy.read_mesh('C:/Users/joana/Downloads/Task_1_Bounds_computation/Triangular_Meshes/A00000500.ply')\n",
    "    ps.init()\n",
    "    ps.register_surface_mesh('cube', V, F)\n",
    "    # pc = ps.register_point_cloud('vertices', V)\n",
    "    # pc.add_scalar_quantity(\"vertex_index\", np.arange(V.shape[0]), enabled=True, datatype='categorical')\n",
    "    ps.screenshot(\"trimesh.png\")\n",
    "    ps.show()\n",
    "    return V, F\n",
    "V, F = viz_mesh()\n"
   ]
  },
  {
   "cell_type": "code",
   "execution_count": 5,
   "id": "62fcb41b-05aa-4a05-bf51-76f3cda7bbc7",
   "metadata": {
    "editable": true,
    "slideshow": {
     "slide_type": ""
    },
    "tags": []
   },
   "outputs": [
    {
     "name": "stdout",
     "output_type": "stream",
     "text": [
      "Warp UserWarning: The graph is not optimizable anymore, terminated with a max/min ratio: 2.0 without reaching the target ratio: 1.1\n",
      "Module warp.sim.graph_coloring 3c9ae71 load on device 'cpu' took 65.45 ms  (cached)\n"
     ]
    }
   ],
   "source": [
    "builder = wp.sim.ModelBuilder()\n",
    "\n",
    "# converts vertex data from an array to warp's vec3 type\n",
    "vertices = [wp.vec3(mesh.vertices[i,:]) for i in range(mesh.vertices.shape[0])]\n",
    "\n",
    "# sets up cloth simulation parameters\n",
    "builder.add_cloth_mesh(\n",
    "            pos=wp.vec3(0.0, 0.0, 0.0), # position of the mesh\n",
    "            rot=wp.quat_identity(), # rotation of the mesh\n",
    "            scale=1.0, # size\n",
    "            vertices=vertices,\n",
    "            indices=mesh.faces.reshape(-1),\n",
    "            vel=wp.vec3(0.0, 0.0, 0.0),\n",
    "            density=0.02, #mass per volume\n",
    "            tri_ke=1.0e5, # stiffness of the triangles\n",
    "            tri_ka=1.0e5,\n",
    "            tri_kd=2.0e-6,\n",
    "            edge_ke=10,\n",
    ")\n",
    "builder.color()\n",
    "model = builder.finalize()"
   ]
  },
  {
   "cell_type": "code",
   "execution_count": 6,
   "id": "b61281e0-7782-43f5-a836-eed581120965",
   "metadata": {},
   "outputs": [
    {
     "name": "stdout",
     "output_type": "stream",
     "text": [
      "Module warp.sim.integrator_vbd 715ddb2 load on device 'cpu' took 23.32 ms  (cached)\n"
     ]
    }
   ],
   "source": [
    "# to access ForceElementAdjacencyInfo, you need to construct a VBDIntegrator (you dont need to understand what it is)\n",
    "# variational block descent\n",
    "vbd_integrator = wp.sim.VBDIntegrator(model)"
   ]
  },
  {
   "cell_type": "code",
   "execution_count": 7,
   "id": "44c3b33e-e8cf-4cda-b198-21f52580ab80",
   "metadata": {},
   "outputs": [
    {
     "name": "stdout",
     "output_type": "stream",
     "text": [
      "Module warp.sim.collide 3b78b77 load on device 'cuda:0' took 32.15 ms  (cached)\n"
     ]
    }
   ],
   "source": [
    "colision_detector = TriMeshCollisionDetector(model)"
   ]
  },
  {
   "cell_type": "code",
   "execution_count": 8,
   "id": "d5a24802-5276-40ba-a38f-ac6844daad29",
   "metadata": {},
   "outputs": [],
   "source": [
    "# configuring the collision detection system with specific distance thresholds\n",
    "#vertex detection within 5 units of triangle surfaces\n",
    "colision_detector.vertex_triangle_collision_detection(5.0)\n",
    "\n",
    "# detects when cloth edges come within 5 units\n",
    "colision_detector.edge_edge_collision_detection(5.0)"
   ]
  },
  {
   "cell_type": "code",
   "execution_count": 9,
   "id": "389b4f1c-12e4-444f-9293-d4c250d3222a",
   "metadata": {},
   "outputs": [
    {
     "name": "stdout",
     "output_type": "stream",
     "text": [
      "[2.0408168 1.3784707 1.7306733 ... 1.7102327 1.3814771 2.0408168]\n",
      "[1.3784707 1.8084555 1.514926  ... 1.3814771 2.012112  1.515333 ]\n",
      "[1.4946659 1.3784707 1.6526986 ... 1.6386598 1.3814771 1.5250734]\n"
     ]
    }
   ],
   "source": [
    "# d^v_{min}\n",
    "print(colision_detector.vertex_colliding_triangles_min_dist)\n",
    "# d^E_{min}\n",
    "print(colision_detector.edge_colliding_edges_min_dist)\n",
    "# d^T_{min}\n",
    "print(colision_detector.triangle_colliding_vertices_min_dist)"
   ]
  },
  {
   "cell_type": "code",
   "execution_count": 10,
   "id": "c3c43b5c-58fe-48a3-a033-db0fbf83f306",
   "metadata": {},
   "outputs": [
    {
     "name": "stdout",
     "output_type": "stream",
     "text": [
      "Module __main__ 3dd20ff load on device 'cuda:0' took 22.56 ms  (cached)\n"
     ]
    }
   ],
   "source": [
    "from warp.sim.integrator_vbd import get_vertex_num_adjacent_edges, get_vertex_adjacent_edge_id_order, get_vertex_num_adjacent_faces, get_vertex_adjacent_face_id_order, ForceElementAdjacencyInfo\n",
    "# how to iterate over neighbor elements\n",
    "@wp.kernel\n",
    "def iterate_vertex_neighbor_primitives(\n",
    "    adjacency: ForceElementAdjacencyInfo\n",
    "):\n",
    "    particle_idx = wp.tid()\n",
    "\n",
    "    # iterating over neighbor faces\n",
    "    num_adj_faces = get_vertex_num_adjacent_faces(adjacency, particle_idx)\n",
    "    for face_counter in range(num_adj_faces):\n",
    "        adj_face_idx, vertex_order = get_vertex_adjacent_face_id_order(adjacency, particle_idx, face_counter)\n",
    "    # iterating over neighbor edges\n",
    "    num_adj_edges = get_vertex_num_adjacent_edges(adjacency, particle_idx)\n",
    "    for edge_counter in range(num_adj_edges):\n",
    "        edge_idx, v_order = get_vertex_adjacent_edge_id_order(adjacency, particle_idx, edge_counter)\n",
    "\n",
    "wp.launch(\n",
    "    iterate_vertex_neighbor_primitives,\n",
    "    dim=model.particle_count,\n",
    "    inputs=[vbd_integrator.adjacency],\n",
    "    device=device\n",
    ")"
   ]
  },
  {
   "cell_type": "code",
   "execution_count": 57,
   "id": "d2918eeb-d12b-4964-af5c-c18176c71e80",
   "metadata": {},
   "outputs": [],
   "source": [
    "# your turn: you need to:\n",
    "# Implement conservative bounds computation using the instructions provided above\n",
    "# it must be implemented using @warp.kernel to maximize efficiency"
   ]
  },
  {
   "cell_type": "markdown",
   "id": "28b786ca",
   "metadata": {},
   "source": [
    "#### Computing Conservative Bounds"
   ]
  },
  {
   "cell_type": "code",
   "execution_count": null,
   "id": "ff238518",
   "metadata": {},
   "outputs": [],
   "source": [
    "import warp as wp\n",
    "from warp.sim.integrator_vbd import get_vertex_num_adjacent_edges, get_vertex_adjacent_edge_id_order, get_vertex_num_adjacent_faces, get_vertex_adjacent_face_id_order, ForceElementAdjacencyInfo\n",
    "\n",
    "@wp.kernel\n",
    "def compute_conservative_bounds(\n",
    "    # Current and previous vertex positions\n",
    "    x_current: wp.array(dtype=wp.vec3),\n",
    "    x_prev: wp.array(dtype=wp.vec3),\n",
    "    \n",
    "    # Pre-computed minimum distances from collision detector\n",
    "    d_min_v: wp.array(dtype=wp.float32),  # vertex to non-adjacent triangles\n",
    "    d_min_e: wp.array(dtype=wp.float32),  # edge to non-adjacent edges  \n",
    "    d_min_t: wp.array(dtype=wp.float32),  # triangle to non-adjacent vertices\n",
    "    \n",
    "    # Adjacency information\n",
    "    adjacency: ForceElementAdjacencyInfo,\n",
    "    \n",
    "    # Parameters\n",
    "    gamma_p: wp.float32,  # relaxation parameter (0 < gamma_p < 0.5)\n",
    "    \n",
    "    # Output: conservative bounds for each vertex\n",
    "    bounds: wp.array(dtype=wp.float32)\n",
    "):\n",
    "    vertex_idx = wp.tid()\n",
    "    \n",
    "    # Get current and previous positions for this vertex\n",
    "    x_v = x_current[vertex_idx]\n",
    "    x_prev_v = x_prev[vertex_idx]\n",
    "    \n",
    "    # Initialize minimum distances for this vertex's neighbors\n",
    "    d_min_e_neighbor = wp.float32(1e10)  # Large initial value\n",
    "    d_min_t_neighbor = wp.float32(1e10)  # Large initial value\n",
    "    \n",
    "    # Get number of adjacent edges for this vertex\n",
    "    num_adj_edges = get_vertex_num_adjacent_edges(adjacency, vertex_idx)\n",
    "    \n",
    "    # Iterate over neighbor edges to find minimum d_min_e among neighbors\n",
    "    for edge_counter in range(num_adj_edges):\n",
    "        edge_idx, v_order = get_vertex_adjacent_edge_id_order(adjacency, vertex_idx, edge_counter)\n",
    "        \n",
    "        # Get the minimum distance for this neighboring edge\n",
    "        edge_d_min = d_min_e[edge_idx]\n",
    "        if edge_d_min < d_min_e_neighbor:\n",
    "            d_min_e_neighbor = edge_d_min\n",
    "    \n",
    "    # Get number of adjacent faces for this vertex  \n",
    "    num_adj_faces = get_vertex_num_adjacent_faces(adjacency, vertex_idx)\n",
    "    \n",
    "    # Iterate over neighbor faces to find minimum d_min_t among neighbors\n",
    "    for face_counter in range(num_adj_faces):\n",
    "        face_idx, vertex_order = get_vertex_adjacent_face_id_order(adjacency, vertex_idx, face_counter)\n",
    "        \n",
    "        # Get the minimum distance for this neighboring face\n",
    "        face_d_min = d_min_t[face_idx]\n",
    "        if face_d_min < d_min_t_neighbor:\n",
    "            d_min_t_neighbor = face_d_min\n",
    "    \n",
    "    # Compute conservative bound according to equation (21)\n",
    "    # b_v = gamma_p * min(d_min_v, d_min_e_neighbor, d_min_t_neighbor)\n",
    "    \n",
    "    min_distance = d_min_v[vertex_idx]\n",
    "    if d_min_e_neighbor < min_distance:\n",
    "        min_distance = d_min_e_neighbor\n",
    "    if d_min_t_neighbor < min_distance:\n",
    "        min_distance = d_min_t_neighbor\n",
    "    \n",
    "    # Apply relaxation parameter\n",
    "    conservative_bound = gamma_p * min_distance\n",
    "    \n",
    "    # Store the result\n",
    "    bounds[vertex_idx] = conservative_bound\n",
    "\n",
    "\n",
    "def compute_bounds_for_simulation(model, collision_detector, vbd_integrator, gamma_p=0.3):\n",
    "    \"\"\"\n",
    "    Compute conservative bounds for all vertices in the simulation\n",
    "    \n",
    "    Args:\n",
    "        model: Warp simulation model\n",
    "        collision_detector: TriMeshCollisionDetector instance with computed distances\n",
    "        vbd_integrator: VBD integrator containing adjacency information\n",
    "        gamma_p: Relaxation parameter (0 < gamma_p < 0.5)\n",
    "    \n",
    "    Returns:\n",
    "        Array of conservative bounds for each vertex\n",
    "    \"\"\"\n",
    "    device = wp.get_device('cuda')\n",
    "    \n",
    "    # Get current simulation state\n",
    "    state = model.state()\n",
    "    \n",
    "    # Allocate output array for bounds\n",
    "    bounds = wp.zeros(model.particle_count, dtype=wp.float32, device=device)\n",
    "    \n",
    "    # Launch the kernel\n",
    "    # Note: Using current positions for both current and previous for initial computation\n",
    "    # In a real simulation, you would store the previous positions from the last time step\n",
    "    wp.launch(\n",
    "        compute_conservative_bounds,\n",
    "        dim=model.particle_count,\n",
    "        inputs=[\n",
    "            state.particle_q,      # current positions\n",
    "            state.particle_q,      # using current positions as previous (for initial step)\n",
    "            collision_detector.vertex_colliding_triangles_min_dist,  # d_min_v\n",
    "            collision_detector.edge_colliding_edges_min_dist,       # d_min_e  \n",
    "            collision_detector.triangle_colliding_vertices_min_dist, # d_min_t\n",
    "            vbd_integrator.adjacency,\n",
    "            gamma_p,\n",
    "            bounds\n",
    "        ],\n",
    "        device=device\n",
    "    )\n",
    "    \n",
    "    return bounds\n"
   ]
  },
  {
   "cell_type": "code",
   "execution_count": 16,
   "id": "a940cabb",
   "metadata": {},
   "outputs": [],
   "source": [
    "# After your collision detection setup\n",
    "bounds = compute_bounds_for_simulation(\n",
    "    model, \n",
    "    colision_detector, \n",
    "    vbd_integrator,\n",
    "    gamma_p=0.3\n",
    ")"
   ]
  },
  {
   "cell_type": "code",
   "execution_count": null,
   "id": "1f3f9fde",
   "metadata": {},
   "outputs": [],
   "source": [
    "import polyscope as ps\n",
    "ps.init()\n",
    "mesh_ps = ps.register_surface_mesh(\"mesh\", mesh.vertices, mesh.faces)\n",
    "mesh_ps.add_scalar_quantity(\"Bounds\", bounds.numpy(),cmap='viridis')\n",
    "ps.show()"
   ]
  },
  {
   "cell_type": "code",
   "execution_count": null,
   "id": "3b333f59",
   "metadata": {},
   "outputs": [],
   "source": []
  }
 ],
 "metadata": {
  "kernelspec": {
   "display_name": "venv",
   "language": "python",
   "name": "python3"
  },
  "language_info": {
   "codemirror_mode": {
    "name": "ipython",
    "version": 3
   },
   "file_extension": ".py",
   "mimetype": "text/x-python",
   "name": "python",
   "nbconvert_exporter": "python",
   "pygments_lexer": "ipython3",
   "version": "3.12.4"
  }
 },
 "nbformat": 4,
 "nbformat_minor": 5
}
