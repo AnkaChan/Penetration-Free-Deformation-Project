{
 "cells": [
  {
   "cell_type": "code",
   "execution_count": 1,
   "id": "7167e001-cd19-4f4b-949a-926ef9fdb07f",
   "metadata": {
    "editable": true,
    "slideshow": {
     "slide_type": ""
    },
    "tags": []
   },
   "outputs": [
    {
     "name": "stdout",
     "output_type": "stream",
     "text": [
      "Warp DeprecationWarning: The `warp.sim` module is deprecated and will be removed in v1.10. Please transition to using the forthcoming Newton library instead.\n"
     ]
    }
   ],
   "source": [
    "import warp as wp\n",
    "import numpy as np\n",
    "import trimesh\n",
    "import polyscope as ps\n",
    "import gpytoolbox as gpy\n",
    "\n",
    "from warp.sim.collide import TriMeshCollisionDetector"
   ]
  },
  {
   "cell_type": "code",
   "execution_count": 2,
   "id": "9ac372a4-37b8-4895-866a-0e3027c3af08",
   "metadata": {},
   "outputs": [
    {
     "name": "stdout",
     "output_type": "stream",
     "text": [
      "Warp 1.8.0 initialized:\n",
      "   CUDA Toolkit 12.8, Driver 12.6\n",
      "   Devices:\n",
      "     \"cpu\"      : \"Intel64 Family 6 Model 186 Stepping 2, GenuineIntel\"\n",
      "     \"cuda:0\"   : \"NVIDIA GeForce RTX 3050 6GB Laptop GPU\" (6 GiB, sm_86, mempool enabled)\n",
      "   Kernel cache:\n",
      "     C:\\Users\\joana\\AppData\\Local\\NVIDIA\\warp\\Cache\\1.8.0\n"
     ]
    }
   ],
   "source": [
    "device = wp.get_device('cuda')\n",
    "# if you don't have a CUDA-compatible GPU try switching to CPU\n",
    "# device = wp.get_device('cpu')"
   ]
  },
  {
   "cell_type": "code",
   "execution_count": 3,
   "id": "12284548-4b78-4079-a39c-f36565a9d842",
   "metadata": {
    "editable": true,
    "slideshow": {
     "slide_type": ""
    },
    "tags": []
   },
   "outputs": [],
   "source": [
    "mesh = trimesh.load(\"C:/Users/joana/Downloads/Task_1_Bounds_computation/Triangular_Meshes/A00000500.ply\")"
   ]
  },
  {
   "cell_type": "code",
   "execution_count": 4,
   "id": "4ab1ae4a",
   "metadata": {},
   "outputs": [],
   "source": [
    "def viz_mesh():\n",
    "    V, F = gpy.read_mesh('C:/Users/joana/Downloads/Task_1_Bounds_computation/Triangular_Meshes/A00000500.ply')\n",
    "    ps.init()\n",
    "    ps.register_surface_mesh('cube', V, F)\n",
    "    # pc = ps.register_point_cloud('vertices', V)\n",
    "    # pc.add_scalar_quantity(\"vertex_index\", np.arange(V.shape[0]), enabled=True, datatype='categorical')\n",
    "    ps.screenshot(\"trimesh.png\")\n",
    "    ps.show()\n",
    "    return V, F\n",
    "V, F = viz_mesh()\n"
   ]
  },
  {
   "cell_type": "code",
   "execution_count": 5,
   "id": "62fcb41b-05aa-4a05-bf51-76f3cda7bbc7",
   "metadata": {
    "editable": true,
    "slideshow": {
     "slide_type": ""
    },
    "tags": []
   },
   "outputs": [
    {
     "name": "stdout",
     "output_type": "stream",
     "text": [
      "Warp UserWarning: The graph is not optimizable anymore, terminated with a max/min ratio: 2.0 without reaching the target ratio: 1.1\n",
      "Module warp.sim.graph_coloring 3c9ae71 load on device 'cpu' took 1.85 ms  (cached)\n"
     ]
    }
   ],
   "source": [
    "builder = wp.sim.ModelBuilder()\n",
    "\n",
    "# converts vertex data from an array to warp's vec3 type\n",
    "vertices = [wp.vec3(mesh.vertices[i,:]) for i in range(mesh.vertices.shape[0])]\n",
    "\n",
    "# sets up cloth simulation parameters\n",
    "builder.add_cloth_mesh(\n",
    "            pos=wp.vec3(0.0, 0.0, 0.0), # position of the mesh\n",
    "            rot=wp.quat_identity(), # rotation of the mesh\n",
    "            scale=1.0, # size\n",
    "            vertices=vertices,\n",
    "            indices=mesh.faces.reshape(-1),\n",
    "            vel=wp.vec3(0.0, 0.0, 0.0),\n",
    "            density=0.02, #mass per volume\n",
    "            tri_ke=1.0e5, # stiffness of the triangles\n",
    "            tri_ka=1.0e5,\n",
    "            tri_kd=2.0e-6,\n",
    "            edge_ke=10,\n",
    ")\n",
    "builder.color()\n",
    "model = builder.finalize()"
   ]
  },
  {
   "cell_type": "code",
   "execution_count": 6,
   "id": "b61281e0-7782-43f5-a836-eed581120965",
   "metadata": {},
   "outputs": [
    {
     "name": "stdout",
     "output_type": "stream",
     "text": [
      "Module warp.sim.integrator_vbd 715ddb2 load on device 'cpu' took 29.05 ms  (cached)\n"
     ]
    }
   ],
   "source": [
    "# to access ForceElementAdjacencyInfo, you need to construct a VBDIntegrator (you dont need to understand what it is)\n",
    "# variational block descent\n",
    "vbd_integrator = wp.sim.VBDIntegrator(model)"
   ]
  },
  {
   "cell_type": "code",
   "execution_count": 7,
   "id": "44c3b33e-e8cf-4cda-b198-21f52580ab80",
   "metadata": {},
   "outputs": [
    {
     "name": "stdout",
     "output_type": "stream",
     "text": [
      "Module warp.sim.collide 3b78b77 load on device 'cuda:0' took 54.91 ms  (cached)\n"
     ]
    }
   ],
   "source": [
    "colision_detector = TriMeshCollisionDetector(model)"
   ]
  },
  {
   "cell_type": "code",
   "execution_count": 8,
   "id": "d5a24802-5276-40ba-a38f-ac6844daad29",
   "metadata": {},
   "outputs": [],
   "source": [
    "# configuring the collision detection system with specific distance thresholds\n",
    "#vertex detection within 5 units of triangle surfaces\n",
    "colision_detector.vertex_triangle_collision_detection(5.0)\n",
    "\n",
    "# detects when cloth edges come within 5 units\n",
    "colision_detector.edge_edge_collision_detection(5.0)"
   ]
  },
  {
   "cell_type": "code",
   "execution_count": 9,
   "id": "389b4f1c-12e4-444f-9293-d4c250d3222a",
   "metadata": {},
   "outputs": [
    {
     "name": "stdout",
     "output_type": "stream",
     "text": [
      "[2.0408168 1.3784707 1.7306733 ... 1.7102327 1.3814771 2.0408168]\n",
      "[1.3784707 1.8084555 1.514926  ... 1.3814771 2.012112  1.515333 ]\n",
      "[1.4946659 1.3784707 1.6526986 ... 1.6386598 1.3814771 1.5250734]\n"
     ]
    }
   ],
   "source": [
    "# d^v_{min}\n",
    "print(colision_detector.vertex_colliding_triangles_min_dist)\n",
    "# d^E_{min}\n",
    "print(colision_detector.edge_colliding_edges_min_dist)\n",
    "# d^T_{min}\n",
    "print(colision_detector.triangle_colliding_vertices_min_dist)"
   ]
  },
  {
   "cell_type": "code",
   "execution_count": 10,
   "id": "c3c43b5c-58fe-48a3-a033-db0fbf83f306",
   "metadata": {},
   "outputs": [
    {
     "name": "stdout",
     "output_type": "stream",
     "text": [
      "Module __main__ 3dd20ff load on device 'cuda:0' took 27.33 ms  (cached)\n"
     ]
    }
   ],
   "source": [
    "from warp.sim.integrator_vbd import get_vertex_num_adjacent_edges, get_vertex_adjacent_edge_id_order, get_vertex_num_adjacent_faces, get_vertex_adjacent_face_id_order, ForceElementAdjacencyInfo\n",
    "# how to iterate over neighbor elements\n",
    "@wp.kernel\n",
    "def iterate_vertex_neighbor_primitives(\n",
    "    adjacency: ForceElementAdjacencyInfo\n",
    "):\n",
    "    particle_idx = wp.tid()\n",
    "\n",
    "    # iterating over neighbor faces\n",
    "    num_adj_faces = get_vertex_num_adjacent_faces(adjacency, particle_idx)\n",
    "    for face_counter in range(num_adj_faces):\n",
    "        adj_face_idx, vertex_order = get_vertex_adjacent_face_id_order(adjacency, particle_idx, face_counter)\n",
    "    # iterating over neighbor edges\n",
    "    num_adj_edges = get_vertex_num_adjacent_edges(adjacency, particle_idx)\n",
    "    for edge_counter in range(num_adj_edges):\n",
    "        edge_idx, v_order = get_vertex_adjacent_edge_id_order(adjacency, particle_idx, edge_counter)\n",
    "\n",
    "wp.launch(\n",
    "    iterate_vertex_neighbor_primitives,\n",
    "    dim=model.particle_count,\n",
    "    inputs=[vbd_integrator.adjacency],\n",
    "    device=device\n",
    ")"
   ]
  },
  {
   "cell_type": "code",
   "execution_count": 11,
   "id": "d2918eeb-d12b-4964-af5c-c18176c71e80",
   "metadata": {},
   "outputs": [],
   "source": [
    "# your turn: you need to:\n",
    "# Implement conservative bounds computation using the instructions provided above\n",
    "# it must be implemented using @warp.kernel to maximize efficiency"
   ]
  },
  {
   "cell_type": "code",
   "execution_count": null,
   "id": "b1e99e10",
   "metadata": {},
   "outputs": [],
   "source": [
    "import warp as wp\n",
    "from warp.sim.integrator_vbd import get_vertex_num_adjacent_edges, get_vertex_adjacent_edge_id_order, get_vertex_num_adjacent_faces, get_vertex_adjacent_face_id_order, ForceElementAdjacencyInfo\n",
    "\n",
    "@wp.kernel\n",
    "def compute_conservative_bounds(\n",
    "    adjacency: ForceElementAdjacencyInfo,\n",
    "    positions: wp.array(dtype=wp.vec3),\n",
    "    vertex_colliding_triangles_min_dist: wp.array(dtype=wp.float32),\n",
    "    edge_colliding_edges_min_dist: wp.array(dtype=wp.float32),\n",
    "    triangle_colliding_vertices_min_dist: wp.array(dtype=wp.float32),\n",
    "    gamma_p: wp.float32,\n",
    "    conservative_bounds: wp.array(dtype=wp.float32)\n",
    "):\n",
    "    \"\"\"\n",
    "    Compute conservative bounds for each vertex according to equations (21)-(26).\n",
    "    \n",
    "    b_v = gamma_p * min(d_min_v, d^E_min_v, d^T_min_v)\n",
    "    \n",
    "    where:\n",
    "    - d_min_v: minimal distance to all facets that do not include v\n",
    "    - d^E_min_v: minimal value of v's neighbor edges' minimal distances to all other edges\n",
    "    - d^T_min_v: minimal value of v's neighbor facets' minimal distances to all other vertices\n",
    "    \"\"\"\n",
    "    vertex_idx = wp.tid()\n",
    "    \n",
    "    # Initialize with large values\n",
    "    d_min_v = wp.float32(1e6)\n",
    "    d_E_min_v = wp.float32(1e6)\n",
    "    d_T_min_v = wp.float32(1e6)\n",
    "    \n",
    "    # Get vertex position\n",
    "    v_pos = positions[vertex_idx]\n",
    "    \n",
    "    # Compute d_min_v: minimal distance to all facets that do not include vertex_idx\n",
    "    # This is provided by the collision detector for vertex-triangle collisions\n",
    "    d_min_v = vertex_colliding_triangles_min_dist[vertex_idx]\n",
    "    \n",
    "    # Compute d^E_min_v: minimal value of neighbor edges' minimal distances to other edges\n",
    "    num_adj_edges = get_vertex_num_adjacent_edges(adjacency, vertex_idx)\n",
    "    for edge_counter in range(num_adj_edges):\n",
    "        edge_idx, v_order = get_vertex_adjacent_edge_id_order(adjacency, vertex_idx, edge_counter)\n",
    "        \n",
    "        # Get the minimal distance for this edge to all other edges\n",
    "        edge_min_dist = edge_colliding_edges_min_dist[edge_idx]\n",
    "        \n",
    "        # Update d^E_min_v with minimum\n",
    "        if edge_min_dist < d_E_min_v:\n",
    "            d_E_min_v = edge_min_dist\n",
    "    \n",
    "    # Compute d^T_min_v: minimal value of neighbor facets' minimal distances to other vertices\n",
    "    num_adj_faces = get_vertex_num_adjacent_faces(adjacency, vertex_idx)\n",
    "    for face_counter in range(num_adj_faces):\n",
    "        adj_face_idx, vertex_order = get_vertex_adjacent_face_id_order(adjacency, vertex_idx, face_counter)\n",
    "        \n",
    "        # Get the minimal distance for this face to all other vertices\n",
    "        face_min_dist = triangle_colliding_vertices_min_dist[adj_face_idx]\n",
    "        \n",
    "        # Update d^T_min_v with minimum\n",
    "        if face_min_dist < d_T_min_v:\n",
    "            d_T_min_v = face_min_dist\n",
    "    \n",
    "    # Compute conservative bound: b_v = gamma_p * min(d_min_v, d^E_min_v, d^T_min_v)\n",
    "    min_distance = wp.min(d_min_v, wp.min(d_E_min_v, d_T_min_v))\n",
    "    conservative_bounds[vertex_idx] = gamma_p * min_distance\n",
    "\n",
    "# Usage example:\n",
    "def compute_vertex_conservative_bounds(model, vbd_integrator, collision_detector, gamma_p=0.5):\n",
    "    \"\"\"\n",
    "    Compute conservative bounds for all vertices in the model.\n",
    "    \n",
    "    Args:\n",
    "        model: The simulation model\n",
    "        vbd_integrator: VBD integrator containing adjacency information\n",
    "        collision_detector: Collision detector with precomputed minimal distances\n",
    "        gamma_p: Relaxation parameter (0 < gamma_p < 0.5)\n",
    "    \n",
    "    Returns:\n",
    "        Array of conservative bounds for each vertex\n",
    "    \"\"\"\n",
    "    device = wp.get_device('cuda')\n",
    "    \n",
    "    # Allocate output array\n",
    "    conservative_bounds = wp.zeros(model.particle_count, dtype=wp.float32, device=device)\n",
    "    \n",
    "    # Launch kernel\n",
    "    wp.launch(\n",
    "        compute_conservative_bounds,\n",
    "        dim=model.particle_count,\n",
    "        inputs=[\n",
    "            vbd_integrator.adjacency,\n",
    "            model.particle_q,  # positions\n",
    "            collision_detector.vertex_colliding_triangles_min_dist,\n",
    "            collision_detector.edge_colliding_edges_min_dist,\n",
    "            collision_detector.triangle_colliding_vertices_min_dist,\n",
    "            gamma_p\n",
    "        ],\n",
    "        outputs=[conservative_bounds],\n",
    "        device=device\n",
    "    )\n",
    "    \n",
    "    return conservative_bounds\n"
   ]
  },
  {
   "cell_type": "code",
   "execution_count": 23,
   "id": "e83ddd9e",
   "metadata": {},
   "outputs": [
    {
     "name": "stdout",
     "output_type": "stream",
     "text": [
      "Module __main__ cfef323 load on device 'cuda:0' took 21.35 ms\n"
     ]
    },
    {
     "ename": "AttributeError",
     "evalue": "'tuple' object has no attribute 'ctype'",
     "output_type": "error",
     "traceback": [
      "\u001b[31m---------------------------------------------------------------------------\u001b[39m",
      "\u001b[31mAttributeError\u001b[39m                            Traceback (most recent call last)",
      "\u001b[36mCell\u001b[39m\u001b[36m \u001b[39m\u001b[32mIn[23]\u001b[39m\u001b[32m, line 2\u001b[39m\n\u001b[32m      1\u001b[39m \u001b[38;5;66;03m# Example usage with your existing code:\u001b[39;00m\n\u001b[32m----> \u001b[39m\u001b[32m2\u001b[39m conservative_bounds = \u001b[43mcompute_vertex_conservative_bounds\u001b[49m\u001b[43m(\u001b[49m\n\u001b[32m      3\u001b[39m \u001b[43m    \u001b[49m\u001b[43mmodel\u001b[49m\u001b[43m,\u001b[49m\u001b[43m \u001b[49m\n\u001b[32m      4\u001b[39m \u001b[43m    \u001b[49m\u001b[43mvbd_integrator\u001b[49m\u001b[43m,\u001b[49m\u001b[43m \u001b[49m\n\u001b[32m      5\u001b[39m \u001b[43m    \u001b[49m\u001b[43mcolision_detector\u001b[49m\u001b[43m,\u001b[49m\u001b[43m \u001b[49m\n\u001b[32m      6\u001b[39m \u001b[43m    \u001b[49m\u001b[43mgamma_p\u001b[49m\u001b[43m=\u001b[49m\u001b[32;43m0.5\u001b[39;49m\n\u001b[32m      7\u001b[39m \u001b[43m)\u001b[49m\n\u001b[32m      8\u001b[39m \u001b[38;5;66;03m# \u001b[39;00m\n\u001b[32m      9\u001b[39m \u001b[38;5;66;03m# # The conservative bounds can then be used for collision detection\u001b[39;00m\n\u001b[32m     10\u001b[39m \u001b[38;5;66;03m# # as described in equation (27): ||x_v - x_v^prev|| <= b_v\u001b[39;00m\n",
      "\u001b[36mCell\u001b[39m\u001b[36m \u001b[39m\u001b[32mIn[18]\u001b[39m\u001b[32m, line 88\u001b[39m, in \u001b[36mcompute_vertex_conservative_bounds\u001b[39m\u001b[34m(model, vbd_integrator, collision_detector, gamma_p)\u001b[39m\n\u001b[32m     85\u001b[39m conservative_bounds = wp.zeros(model.particle_count, dtype=wp.float32, device=device)\n\u001b[32m     87\u001b[39m \u001b[38;5;66;03m# Launch kernel\u001b[39;00m\n\u001b[32m---> \u001b[39m\u001b[32m88\u001b[39m \u001b[43mwp\u001b[49m\u001b[43m.\u001b[49m\u001b[43mlaunch\u001b[49m\u001b[43m(\u001b[49m\n\u001b[32m     89\u001b[39m \u001b[43m    \u001b[49m\u001b[43mcompute_conservative_bounds\u001b[49m\u001b[43m,\u001b[49m\n\u001b[32m     90\u001b[39m \u001b[43m    \u001b[49m\u001b[43mdim\u001b[49m\u001b[43m=\u001b[49m\u001b[43mmodel\u001b[49m\u001b[43m.\u001b[49m\u001b[43mparticle_count\u001b[49m\u001b[43m,\u001b[49m\n\u001b[32m     91\u001b[39m \u001b[43m    \u001b[49m\u001b[43minputs\u001b[49m\u001b[43m=\u001b[49m\u001b[43m[\u001b[49m\n\u001b[32m     92\u001b[39m \u001b[43m        \u001b[49m\u001b[43mvbd_integrator\u001b[49m\u001b[43m.\u001b[49m\u001b[43madjacency\u001b[49m\u001b[43m,\u001b[49m\n\u001b[32m     93\u001b[39m \u001b[43m        \u001b[49m\u001b[43mmodel\u001b[49m\u001b[43m.\u001b[49m\u001b[43mparticle_q\u001b[49m\u001b[43m,\u001b[49m\u001b[43m  \u001b[49m\u001b[38;5;66;43;03m# positions\u001b[39;49;00m\n\u001b[32m     94\u001b[39m \u001b[43m        \u001b[49m\u001b[43mmodel\u001b[49m\u001b[43m.\u001b[49m\u001b[43mtri_indices\u001b[49m\u001b[43m,\u001b[49m\u001b[43m  \u001b[49m\u001b[38;5;66;43;03m# faces\u001b[39;49;00m\n\u001b[32m     95\u001b[39m \u001b[43m        \u001b[49m\u001b[43mmodel\u001b[49m\u001b[43m.\u001b[49m\u001b[43medge_indices\u001b[49m\u001b[43m,\u001b[49m\u001b[43m  \u001b[49m\u001b[38;5;66;43;03m# edges (if available)\u001b[39;49;00m\n\u001b[32m     96\u001b[39m \u001b[43m        \u001b[49m\u001b[43mcollision_detector\u001b[49m\u001b[43m.\u001b[49m\u001b[43mvertex_colliding_triangles_min_dist\u001b[49m\u001b[43m,\u001b[49m\n\u001b[32m     97\u001b[39m \u001b[43m        \u001b[49m\u001b[43mcollision_detector\u001b[49m\u001b[43m.\u001b[49m\u001b[43medge_colliding_edges_min_dist\u001b[49m\u001b[43m,\u001b[49m\n\u001b[32m     98\u001b[39m \u001b[43m        \u001b[49m\u001b[43mcollision_detector\u001b[49m\u001b[43m.\u001b[49m\u001b[43mtriangle_colliding_vertices_min_dist\u001b[49m\u001b[43m,\u001b[49m\n\u001b[32m     99\u001b[39m \u001b[43m        \u001b[49m\u001b[43mgamma_p\u001b[49m\u001b[43m,\u001b[49m\n\u001b[32m    100\u001b[39m \u001b[43m        \u001b[49m\u001b[43mconservative_bounds\u001b[49m\n\u001b[32m    101\u001b[39m \u001b[43m    \u001b[49m\u001b[43m]\u001b[49m\u001b[43m,\u001b[49m\n\u001b[32m    102\u001b[39m \u001b[43m    \u001b[49m\u001b[43mdevice\u001b[49m\u001b[43m=\u001b[49m\u001b[43mdevice\u001b[49m\n\u001b[32m    103\u001b[39m \u001b[43m\u001b[49m\u001b[43m)\u001b[49m\n\u001b[32m    105\u001b[39m \u001b[38;5;28;01mreturn\u001b[39;00m conservative_bounds\n",
      "\u001b[36mFile \u001b[39m\u001b[32mc:\\Users\\joana\\Downloads\\SGI_\\venv\\Lib\\site-packages\\warp\\context.py:5864\u001b[39m, in \u001b[36mlaunch\u001b[39m\u001b[34m(kernel, dim, inputs, outputs, adj_inputs, adj_outputs, device, stream, adjoint, record_tape, record_cmd, max_blocks, block_dim)\u001b[39m\n\u001b[32m   5862\u001b[39m \u001b[38;5;66;03m# delay load modules, including new overload if needed\u001b[39;00m\n\u001b[32m   5863\u001b[39m \u001b[38;5;28;01mtry\u001b[39;00m:\n\u001b[32m-> \u001b[39m\u001b[32m5864\u001b[39m     module_exec = \u001b[43mkernel\u001b[49m\u001b[43m.\u001b[49m\u001b[43mmodule\u001b[49m\u001b[43m.\u001b[49m\u001b[43mload\u001b[49m\u001b[43m(\u001b[49m\u001b[43mdevice\u001b[49m\u001b[43m,\u001b[49m\u001b[43m \u001b[49m\u001b[43mblock_dim\u001b[49m\u001b[43m)\u001b[49m\n\u001b[32m   5865\u001b[39m \u001b[38;5;28;01mexcept\u001b[39;00m \u001b[38;5;167;01mException\u001b[39;00m:\n\u001b[32m   5866\u001b[39m     kernel.adj.skip_build = \u001b[38;5;28;01mTrue\u001b[39;00m\n",
      "\u001b[36mFile \u001b[39m\u001b[32mc:\\Users\\joana\\Downloads\\SGI_\\venv\\Lib\\site-packages\\warp\\context.py:2253\u001b[39m, in \u001b[36mModule.load\u001b[39m\u001b[34m(self, device, block_dim)\u001b[39m\n\u001b[32m   2243\u001b[39m \u001b[38;5;28;01mif\u001b[39;00m (\n\u001b[32m   2244\u001b[39m     \u001b[38;5;129;01mnot\u001b[39;00m os.path.exists(binary_path)\n\u001b[32m   2245\u001b[39m     \u001b[38;5;129;01mor\u001b[39;00m \u001b[38;5;129;01mnot\u001b[39;00m warp.config.cache_kernels\n\u001b[32m   2246\u001b[39m     \u001b[38;5;129;01mor\u001b[39;00m warp.config.verify_autograd_array_access\n\u001b[32m   2247\u001b[39m ):\n\u001b[32m   2248\u001b[39m     builder_options = {\n\u001b[32m   2249\u001b[39m         **\u001b[38;5;28mself\u001b[39m.options,\n\u001b[32m   2250\u001b[39m         \u001b[38;5;66;03m# Some of the tile codegen, such as cuFFTDx and cuBLASDx, requires knowledge of the target arch\u001b[39;00m\n\u001b[32m   2251\u001b[39m         \u001b[33m\"\u001b[39m\u001b[33moutput_arch\u001b[39m\u001b[33m\"\u001b[39m: output_arch,\n\u001b[32m   2252\u001b[39m     }\n\u001b[32m-> \u001b[39m\u001b[32m2253\u001b[39m     builder = \u001b[43mModuleBuilder\u001b[49m\u001b[43m(\u001b[49m\u001b[38;5;28;43mself\u001b[39;49m\u001b[43m,\u001b[49m\u001b[43m \u001b[49m\u001b[43mbuilder_options\u001b[49m\u001b[43m,\u001b[49m\u001b[43m \u001b[49m\u001b[43mhasher\u001b[49m\u001b[43m=\u001b[49m\u001b[38;5;28;43mself\u001b[39;49m\u001b[43m.\u001b[49m\u001b[43mhashers\u001b[49m\u001b[43m[\u001b[49m\u001b[43mactive_block_dim\u001b[49m\u001b[43m]\u001b[49m\u001b[43m)\u001b[49m\n\u001b[32m   2255\u001b[39m     \u001b[38;5;66;03m# create a temporary (process unique) dir for build outputs before moving to the binary dir\u001b[39;00m\n\u001b[32m   2256\u001b[39m     build_dir = os.path.join(\n\u001b[32m   2257\u001b[39m         warp.config.kernel_cache_dir, \u001b[33mf\u001b[39m\u001b[33m\"\u001b[39m\u001b[38;5;132;01m{\u001b[39;00mmodule_name\u001b[38;5;132;01m}\u001b[39;00m\u001b[33m_\u001b[39m\u001b[38;5;132;01m{\u001b[39;00mmodule_hash.hex()[:\u001b[32m7\u001b[39m]\u001b[38;5;132;01m}\u001b[39;00m\u001b[33m_p\u001b[39m\u001b[38;5;132;01m{\u001b[39;00mos.getpid()\u001b[38;5;132;01m}\u001b[39;00m\u001b[33m\"\u001b[39m\n\u001b[32m   2258\u001b[39m     )\n",
      "\u001b[36mFile \u001b[39m\u001b[32mc:\\Users\\joana\\Downloads\\SGI_\\venv\\Lib\\site-packages\\warp\\context.py:1758\u001b[39m, in \u001b[36mModuleBuilder.__init__\u001b[39m\u001b[34m(self, module, options, hasher)\u001b[39m\n\u001b[32m   1756\u001b[39m \u001b[38;5;28mself\u001b[39m.kernels = hasher.get_unique_kernels()\n\u001b[32m   1757\u001b[39m \u001b[38;5;28;01mfor\u001b[39;00m kernel \u001b[38;5;129;01min\u001b[39;00m \u001b[38;5;28mself\u001b[39m.kernels:\n\u001b[32m-> \u001b[39m\u001b[32m1758\u001b[39m     \u001b[38;5;28;43mself\u001b[39;49m\u001b[43m.\u001b[49m\u001b[43mbuild_kernel\u001b[49m\u001b[43m(\u001b[49m\u001b[43mkernel\u001b[49m\u001b[43m)\u001b[49m\n\u001b[32m   1760\u001b[39m \u001b[38;5;66;03m# build deferred functions\u001b[39;00m\n\u001b[32m   1761\u001b[39m \u001b[38;5;28;01mfor\u001b[39;00m func \u001b[38;5;129;01min\u001b[39;00m \u001b[38;5;28mself\u001b[39m.deferred_functions:\n",
      "\u001b[36mFile \u001b[39m\u001b[32mc:\\Users\\joana\\Downloads\\SGI_\\venv\\Lib\\site-packages\\warp\\context.py:1790\u001b[39m, in \u001b[36mModuleBuilder.build_kernel\u001b[39m\u001b[34m(self, kernel)\u001b[39m\n\u001b[32m   1787\u001b[39m kernel.adj.build(\u001b[38;5;28mself\u001b[39m)\n\u001b[32m   1789\u001b[39m \u001b[38;5;28;01mif\u001b[39;00m kernel.adj.return_var \u001b[38;5;129;01mis\u001b[39;00m \u001b[38;5;129;01mnot\u001b[39;00m \u001b[38;5;28;01mNone\u001b[39;00m:\n\u001b[32m-> \u001b[39m\u001b[32m1790\u001b[39m     \u001b[38;5;28;01mif\u001b[39;00m \u001b[43mkernel\u001b[49m\u001b[43m.\u001b[49m\u001b[43madj\u001b[49m\u001b[43m.\u001b[49m\u001b[43mreturn_var\u001b[49m\u001b[43m.\u001b[49m\u001b[43mctype\u001b[49m() != \u001b[33m\"\u001b[39m\u001b[33mvoid\u001b[39m\u001b[33m\"\u001b[39m:\n\u001b[32m   1791\u001b[39m         \u001b[38;5;28;01mraise\u001b[39;00m \u001b[38;5;167;01mTypeError\u001b[39;00m(\u001b[33mf\u001b[39m\u001b[33m\"\u001b[39m\u001b[33mError, kernels can\u001b[39m\u001b[33m'\u001b[39m\u001b[33mt have return values, got: \u001b[39m\u001b[38;5;132;01m{\u001b[39;00mkernel.adj.return_var\u001b[38;5;132;01m}\u001b[39;00m\u001b[33m\"\u001b[39m)\n",
      "\u001b[31mAttributeError\u001b[39m: 'tuple' object has no attribute 'ctype'"
     ]
    }
   ],
   "source": [
    "# Example usage with your existing code:\n",
    "conservative_bounds = compute_vertex_conservative_bounds(\n",
    "    model, \n",
    "    vbd_integrator, \n",
    "    colision_detector, \n",
    "    gamma_p=0.5\n",
    ")\n",
    "# \n",
    "# # The conservative bounds can then be used for collision detection\n",
    "# # as described in equation (27): ||x_v - x_v^prev|| <= b_v"
   ]
  },
  {
   "cell_type": "code",
   "execution_count": 21,
   "id": "97a343da",
   "metadata": {},
   "outputs": [],
   "source": [
    "import polyscope as ps\n",
    "import numpy as np\n",
    "import warp as wp\n",
    "\n",
    "def visualize_conservative_bounds(model, conservative_bounds, mesh, collision_detector=None):\n",
    "    \"\"\"\n",
    "    Visualize the conservative bounds results using Polyscope.\n",
    "    \n",
    "    Args:\n",
    "        model: The simulation model\n",
    "        conservative_bounds: Array of conservative bounds for each vertex\n",
    "        mesh: Original mesh object with vertices and faces\n",
    "        collision_detector: Optional collision detector for additional visualizations\n",
    "    \"\"\"\n",
    "    \n",
    "    # Initialize Polyscope\n",
    "    ps.init()\n",
    "    ps.set_up_dir(\"z\")\n",
    "    ps.set_front_dir(\"-y\")\n",
    "    \n",
    "    # Convert warp arrays to numpy if needed\n",
    "    if hasattr(conservative_bounds, 'numpy'):\n",
    "        bounds_np = conservative_bounds.numpy()\n",
    "    else:\n",
    "        bounds_np = np.array(conservative_bounds)\n",
    "    \n",
    "    # Get mesh vertices and faces\n",
    "    vertices = mesh.vertices\n",
    "    faces = mesh.faces\n",
    "    \n",
    "    # Register the mesh\n",
    "    ps_mesh = ps.register_surface_mesh(\"cloth_mesh\", vertices, faces)\n",
    "    \n",
    "    # Visualize conservative bounds as vertex colors\n",
    "    ps_mesh.add_scalar_quantity(\"Conservative Bounds\", bounds_np, \n",
    "                               defined_on='vertices', \n",
    "                               cmap='viridis',\n",
    "                               enabled=True)\n",
    "    \n",
    "    # Add additional visualizations if collision detector is provided\n",
    "    if collision_detector is not None:\n",
    "        # Visualize vertex-triangle collision distances\n",
    "        if hasattr(collision_detector, 'vertex_colliding_triangles_min_dist'):\n",
    "            vertex_tri_dist = collision_detector.vertex_colliding_triangles_min_dist\n",
    "            if hasattr(vertex_tri_dist, 'numpy'):\n",
    "                vertex_tri_dist_np = vertex_tri_dist.numpy()\n",
    "            else:\n",
    "                vertex_tri_dist_np = np.array(vertex_tri_dist)\n",
    "            \n",
    "            ps_mesh.add_scalar_quantity(\"Vertex-Triangle Min Distance\", vertex_tri_dist_np,\n",
    "                                       defined_on='vertices',\n",
    "                                       cmap='plasma',\n",
    "                                       enabled=False)\n",
    "        \n",
    "        # Visualize edge-edge collision distances (mapped to vertices)\n",
    "        if hasattr(collision_detector, 'edge_colliding_edges_min_dist'):\n",
    "            edge_edge_dist = collision_detector.edge_colliding_edges_min_dist\n",
    "            if hasattr(edge_edge_dist, 'numpy'):\n",
    "                edge_edge_dist_np = edge_edge_dist.numpy()\n",
    "            else:\n",
    "                edge_edge_dist_np = np.array(edge_edge_dist)\n",
    "            \n",
    "            # Map edge distances to vertices (take minimum of adjacent edges)\n",
    "            vertex_edge_dist = np.full(len(vertices), np.inf)\n",
    "            for edge_idx in range(len(edge_edge_dist_np)):\n",
    "                # This assumes model.edge_indices contains edge vertex pairs\n",
    "                if hasattr(model, 'edge_indices'):\n",
    "                    edge_verts = model.edge_indices[edge_idx * 2:(edge_idx + 1) * 2]\n",
    "                    for v_idx in edge_verts:\n",
    "                        vertex_edge_dist[v_idx] = min(vertex_edge_dist[v_idx], edge_edge_dist_np[edge_idx])\n",
    "            \n",
    "            vertex_edge_dist[vertex_edge_dist == np.inf] = 0.0\n",
    "            ps_mesh.add_scalar_quantity(\"Edge-Edge Min Distance\", vertex_edge_dist,\n",
    "                                       defined_on='vertices',\n",
    "                                       cmap='coolwarm',\n",
    "                                       enabled=False)\n",
    "    \n",
    "    # Add some mesh analysis\n",
    "    # Compute vertex normals for better visualization\n",
    "    vertex_normals = compute_vertex_normals(vertices, faces)\n",
    "    ps_mesh.add_vector_quantity(\"Vertex Normals\", vertex_normals, \n",
    "                               defined_on='vertices',\n",
    "                               enabled=False,\n",
    "                               length=0.1)\n",
    "    \n",
    "    # Add mesh edges for better structure visualization\n",
    "    ps_mesh.set_edge_width(0.5)\n",
    "    ps_mesh.set_edge_color([0.2, 0.2, 0.2])\n",
    "    \n",
    "    # Create a summary statistics display\n",
    "    print_statistics(bounds_np, collision_detector)\n",
    "    \n",
    "    # Show the visualization\n",
    "    ps.show()\n",
    "\n",
    "def compute_vertex_normals(vertices, faces):\n",
    "    \"\"\"Compute vertex normals from face normals.\"\"\"\n",
    "    vertex_normals = np.zeros_like(vertices)\n",
    "    \n",
    "    for face in faces:\n",
    "        # Compute face normal\n",
    "        v0, v1, v2 = vertices[face[0]], vertices[face[1]], vertices[face[2]]\n",
    "        normal = np.cross(v1 - v0, v2 - v0)\n",
    "        normal = normal / (np.linalg.norm(normal) + 1e-8)\n",
    "        \n",
    "        # Add to vertex normals\n",
    "        vertex_normals[face[0]] += normal\n",
    "        vertex_normals[face[1]] += normal\n",
    "        vertex_normals[face[2]] += normal\n",
    "    \n",
    "    # Normalize\n",
    "    norms = np.linalg.norm(vertex_normals, axis=1, keepdims=True)\n",
    "    vertex_normals = vertex_normals / (norms + 1e-8)\n",
    "    \n",
    "    return vertex_normals\n",
    "\n",
    "def print_statistics(bounds_np, collision_detector=None):\n",
    "    \"\"\"Print summary statistics about the conservative bounds.\"\"\"\n",
    "    print(\"\\n\" + \"=\"*50)\n",
    "    print(\"CONSERVATIVE BOUNDS ANALYSIS\")\n",
    "    print(\"=\"*50)\n",
    "    \n",
    "    print(f\"Total vertices: {len(bounds_np)}\")\n",
    "    print(f\"Bounds range: [{bounds_np.min():.6f}, {bounds_np.max():.6f}]\")\n",
    "    print(f\"Mean bound: {bounds_np.mean():.6f}\")\n",
    "    print(f\"Std deviation: {bounds_np.std():.6f}\")\n",
    "    \n",
    "    # Percentile analysis\n",
    "    percentiles = [10, 25, 50, 75, 90, 95, 99]\n",
    "    print(f\"\\nPercentile analysis:\")\n",
    "    for p in percentiles:\n",
    "        print(f\"  {p}th percentile: {np.percentile(bounds_np, p):.6f}\")\n",
    "    \n",
    "    # Identify vertices with extreme bounds\n",
    "    tight_threshold = np.percentile(bounds_np, 5)\n",
    "    loose_threshold = np.percentile(bounds_np, 95)\n",
    "    \n",
    "    tight_vertices = np.where(bounds_np <= tight_threshold)[0]\n",
    "    loose_vertices = np.where(bounds_np >= loose_threshold)[0]\n",
    "    \n",
    "    print(f\"\\nVertices with tight bounds (<= {tight_threshold:.6f}): {len(tight_vertices)}\")\n",
    "    print(f\"Vertices with loose bounds (>= {loose_threshold:.6f}): {len(loose_vertices)}\")\n",
    "    \n",
    "    if collision_detector is not None:\n",
    "        print(f\"\\nCollision detection info:\")\n",
    "        if hasattr(collision_detector, 'vertex_colliding_triangles_min_dist'):\n",
    "            vtri_dist = collision_detector.vertex_colliding_triangles_min_dist\n",
    "            if hasattr(vtri_dist, 'numpy'):\n",
    "                vtri_dist_np = vtri_dist.numpy()\n",
    "                print(f\"  Vertex-triangle distances: [{vtri_dist_np.min():.6f}, {vtri_dist_np.max():.6f}]\")\n",
    "        \n",
    "        if hasattr(collision_detector, 'edge_colliding_edges_min_dist'):\n",
    "            edge_dist = collision_detector.edge_colliding_edges_min_dist\n",
    "            if hasattr(edge_dist, 'numpy'):\n",
    "                edge_dist_np = edge_dist.numpy()\n",
    "                print(f\"  Edge-edge distances: [{edge_dist_np.min():.6f}, {edge_dist_np.max():.6f}]\")\n",
    "    \n",
    "    print(\"=\"*50)\n",
    "\n",
    "def create_interactive_visualization(model, conservative_bounds, mesh, collision_detector=None):\n",
    "    \"\"\"\n",
    "    Create an interactive visualization with multiple views and controls.\n",
    "    \"\"\"\n",
    "    # Initialize Polyscope\n",
    "    ps.init()\n",
    "    ps.set_up_dir(\"z\")\n",
    "    ps.set_front_dir(\"-y\")\n",
    "    \n",
    "    # Convert arrays\n",
    "    bounds_np = conservative_bounds.numpy() if hasattr(conservative_bounds, 'numpy') else np.array(conservative_bounds)\n",
    "    \n",
    "    # Register mesh\n",
    "    ps_mesh = ps.register_surface_mesh(\"cloth_mesh\", mesh.vertices, mesh.faces)\n",
    "    \n",
    "    # Add multiple scalar quantities for comparison\n",
    "    ps_mesh.add_scalar_quantity(\"Conservative Bounds\", bounds_np, \n",
    "                               defined_on='vertices', cmap='viridis')\n",
    "    \n",
    "    # Log-scale bounds for better visualization of small values\n",
    "    log_bounds = np.log10(bounds_np + 1e-8)\n",
    "    ps_mesh.add_scalar_quantity(\"Log Conservative Bounds\", log_bounds, \n",
    "                               defined_on='vertices', cmap='plasma')\n",
    "    \n",
    "    # Normalized bounds (0-1 scale)\n",
    "    normalized_bounds = (bounds_np - bounds_np.min()) / (bounds_np.max() - bounds_np.min())\n",
    "    ps_mesh.add_scalar_quantity(\"Normalized Bounds\", normalized_bounds, \n",
    "                               defined_on='vertices', cmap='coolwarm')\n",
    "    \n",
    "    # Create point cloud for vertices with extreme bounds\n",
    "    tight_threshold = np.percentile(bounds_np, 10)\n",
    "    loose_threshold = np.percentile(bounds_np, 90)\n",
    "    \n",
    "    tight_vertices = np.where(bounds_np <= tight_threshold)[0]\n",
    "    loose_vertices = np.where(bounds_np >= loose_threshold)[0]\n",
    "    \n",
    "    if len(tight_vertices) > 0:\n",
    "        tight_points = mesh.vertices[tight_vertices]\n",
    "        ps.register_point_cloud(\"Tight Bound Vertices\", tight_points, \n",
    "                               color=[1.0, 0.0, 0.0], point_radius=0.01)\n",
    "    \n",
    "    if len(loose_vertices) > 0:\n",
    "        loose_points = mesh.vertices[loose_vertices]\n",
    "        ps.register_point_cloud(\"Loose Bound Vertices\", loose_points, \n",
    "                               color=[0.0, 1.0, 0.0], point_radius=0.01)\n",
    "    \n",
    "    # Set initial view\n",
    "    ps_mesh.set_transparency(0.8)\n",
    "    ps_mesh.set_material(\"wax\")\n",
    "    \n",
    "    print(\"Interactive visualization ready!\")\n",
    "    print(\"Use the GUI to:\")\n",
    "    print(\"- Toggle between different scalar quantities\")\n",
    "    print(\"- Adjust transparency and material\")\n",
    "    print(\"- View tight/loose bound vertices\")\n",
    "    print(\"- Analyze the conservative bounds distribution\")\n",
    "    \n",
    "    ps.show()\n",
    "\n"
   ]
  },
  {
   "cell_type": "code",
   "execution_count": 22,
   "id": "31ec62f9",
   "metadata": {},
   "outputs": [
    {
     "ename": "NameError",
     "evalue": "name 'conservative_bounds' is not defined",
     "output_type": "error",
     "traceback": [
      "\u001b[31m---------------------------------------------------------------------------\u001b[39m",
      "\u001b[31mNameError\u001b[39m                                 Traceback (most recent call last)",
      "\u001b[36mCell\u001b[39m\u001b[36m \u001b[39m\u001b[32mIn[22]\u001b[39m\u001b[32m, line 3\u001b[39m\n\u001b[32m      1\u001b[39m \u001b[38;5;66;03m# Example usage with your existing code:\u001b[39;00m\n\u001b[32m      2\u001b[39m \u001b[38;5;66;03m# After computing conservative bounds:\u001b[39;00m\n\u001b[32m----> \u001b[39m\u001b[32m3\u001b[39m visualize_conservative_bounds(model, \u001b[43mconservative_bounds\u001b[49m, mesh, colision_detector)\n",
      "\u001b[31mNameError\u001b[39m: name 'conservative_bounds' is not defined"
     ]
    }
   ],
   "source": [
    "# Example usage with your existing code:\n",
    "# After computing conservative bounds:\n",
    "visualize_conservative_bounds(model, conservative_bounds, mesh, colision_detector)\n"
   ]
  },
  {
   "cell_type": "code",
   "execution_count": null,
   "id": "ff238518",
   "metadata": {},
   "outputs": [],
   "source": []
  }
 ],
 "metadata": {
  "kernelspec": {
   "display_name": "venv",
   "language": "python",
   "name": "python3"
  },
  "language_info": {
   "codemirror_mode": {
    "name": "ipython",
    "version": 3
   },
   "file_extension": ".py",
   "mimetype": "text/x-python",
   "name": "python",
   "nbconvert_exporter": "python",
   "pygments_lexer": "ipython3",
   "version": "3.12.4"
  }
 },
 "nbformat": 4,
 "nbformat_minor": 5
}
