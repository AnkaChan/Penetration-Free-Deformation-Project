{
 "cells": [
  {
   "cell_type": "code",
   "execution_count": 63,
   "id": "7167e001-cd19-4f4b-949a-926ef9fdb07f",
   "metadata": {
    "editable": true,
    "slideshow": {
     "slide_type": ""
    },
    "tags": []
   },
   "outputs": [],
   "source": [
    "import warp as wp\n",
    "import numpy as np\n",
    "import trimesh\n",
    "\n",
    "from warp.sim.render import *\n",
    "\n",
    "from warp.sim.collide import TriMeshCollisionDetector"
   ]
  },
  {
   "cell_type": "code",
   "execution_count": 64,
   "id": "9ac372a4-37b8-4895-866a-0e3027c3af08",
   "metadata": {},
   "outputs": [],
   "source": [
    "device = wp.get_device('cuda')\n",
    "# if you don't have a CUDA-compatible GPU try switching to CPU\n",
    "# device = wp.get_device('cpu')"
   ]
  },
  {
   "cell_type": "code",
   "execution_count": 65,
   "id": "12284548-4b78-4079-a39c-f36565a9d842",
   "metadata": {
    "editable": true,
    "slideshow": {
     "slide_type": ""
    },
    "tags": []
   },
   "outputs": [],
   "source": [
    "mesh = trimesh.load('A00000500.ply')\n"
   ]
  },
  {
   "cell_type": "code",
   "execution_count": 66,
   "id": "62fcb41b-05aa-4a05-bf51-76f3cda7bbc7",
   "metadata": {
    "editable": true,
    "slideshow": {
     "slide_type": ""
    },
    "tags": []
   },
   "outputs": [
    {
     "name": "stdout",
     "output_type": "stream",
     "text": [
      "Warp UserWarning: The graph is not optimizable anymore, terminated with a max/min ratio: 2.0 without reaching the target ratio: 1.1\n"
     ]
    }
   ],
   "source": [
    "builder  = wp.sim.ModelBuilder()\n",
    "\n",
    "vertices = [wp.vec3(mesh.vertices[i,:]) for i in range(mesh.vertices.shape[0])]\n",
    "builder.add_cloth_mesh(\n",
    "            pos=wp.vec3(0.0, 0.0, 0.0),\n",
    "            rot=wp.quat_identity(),\n",
    "            scale=1.0,\n",
    "            vertices=vertices,\n",
    "            indices=mesh.faces.reshape(-1),\n",
    "            vel=wp.vec3(0.0, 0.0, 0.0),\n",
    "            density=0.02,\n",
    "            tri_ke=1.0e5,\n",
    "            tri_ka=1.0e5,\n",
    "            tri_kd=2.0e-6,\n",
    "            edge_ke=10,\n",
    ")\n",
    "builder.color()\n",
    "model = builder.finalize()"
   ]
  },
  {
   "cell_type": "code",
   "execution_count": 67,
   "id": "b61281e0-7782-43f5-a836-eed581120965",
   "metadata": {},
   "outputs": [],
   "source": [
    "# to access ForceElementAdjacencyInfo, you need to construct a VBDIntegrator (you dont need to understand what it is)\n",
    "vbd_integrator = wp.sim.VBDIntegrator(model)"
   ]
  },
  {
   "cell_type": "code",
   "execution_count": 68,
   "id": "44c3b33e-e8cf-4cda-b198-21f52580ab80",
   "metadata": {},
   "outputs": [],
   "source": [
    "colision_detector = TriMeshCollisionDetector(model)"
   ]
  },
  {
   "cell_type": "code",
   "execution_count": 69,
   "id": "d5a24802-5276-40ba-a38f-ac6844daad29",
   "metadata": {},
   "outputs": [],
   "source": [
    "colision_detector.vertex_triangle_collision_detection(5.0)\n",
    "colision_detector.edge_edge_collision_detection(5.0)"
   ]
  },
  {
   "cell_type": "code",
   "execution_count": 70,
   "id": "389b4f1c-12e4-444f-9293-d4c250d3222a",
   "metadata": {},
   "outputs": [
    {
     "name": "stdout",
     "output_type": "stream",
     "text": [
      "[2.0408168 1.3784707 1.7306733 ... 1.7102327 1.3814771 2.0408168]\n",
      "[1.3784707 1.8084555 1.514926  ... 1.3814771 2.012112  1.515333 ]\n",
      "[1.4946659 1.3784707 1.6526986 ... 1.6386598 1.3814771 1.5250734]\n"
     ]
    }
   ],
   "source": [
    "# d^v_{min}\n",
    "print(colision_detector.vertex_colliding_triangles_min_dist)\n",
    "# d^E_{min}\n",
    "print(colision_detector.edge_colliding_edges_min_dist)\n",
    "# d^T_{min}\n",
    "print(colision_detector.triangle_colliding_vertices_min_dist)"
   ]
  },
  {
   "cell_type": "code",
   "execution_count": 72,
   "id": "c3c43b5c-58fe-48a3-a033-db0fbf83f306",
   "metadata": {},
   "outputs": [],
   "source": [
    "from warp.sim.integrator_vbd import get_vertex_num_adjacent_edges, get_vertex_adjacent_edge_id_order, get_vertex_num_adjacent_faces, get_vertex_adjacent_face_id_order, ForceElementAdjacencyInfo\n",
    "# how to iterate over neighbor elements\n",
    "@wp.kernel\n",
    "def iterate_vertex_neighbor_primitives(\n",
    "    adjacency: ForceElementAdjacencyInfo\n",
    "):\n",
    "    particle_idx = wp.tid()\n",
    "\n",
    "    # iterating over neighbor faces\n",
    "    num_adj_faces = get_vertex_num_adjacent_faces(adjacency, particle_idx)\n",
    "    for face_counter in range(num_adj_faces):\n",
    "        adj_face_idx, vertex_order = get_vertex_adjacent_face_id_order(adjacency, particle_idx, face_counter)\n",
    "    # iterating over neighbor edges\n",
    "    num_adj_edges = get_vertex_num_adjacent_edges(adjacency, particle_idx)\n",
    "    for edge_counter in range(num_adj_edges):\n",
    "        edge_idx, v_order = get_vertex_adjacent_edge_id_order(adjacency, particle_idx, edge_counter)\n",
    "\n",
    "wp.launch(\n",
    "    iterate_vertex_neighbor_primitives,\n",
    "    dim=model.particle_count,\n",
    "    inputs=[vbd_integrator.adjacency],\n",
    "    device=device\n",
    ")"
   ]
  },
  {
   "cell_type": "code",
   "execution_count": 73,
   "id": "d2918eeb-d12b-4964-af5c-c18176c71e80",
   "metadata": {},
   "outputs": [],
   "source": [
    "# your turn: you need to:\n",
    "# Implement conservative bounds computation using the instructions provided above\n",
    "# it must be implemented using @warp.kernel to maximize efficiency"
   ]
  },
  {
   "cell_type": "code",
   "execution_count": 74,
   "id": "cb6e0330",
   "metadata": {},
   "outputs": [
    {
     "name": "stdout",
     "output_type": "stream",
     "text": [
      "Conservative bounds computed: [0.55138826 0.55138826 0.55138826 ... 0.55259085 0.55259085 0.55259085]\n"
     ]
    }
   ],
   "source": [
    "\n",
    "@wp.kernel\n",
    "def compute_conservative_bounds(\n",
    "    adjacency: wp.sim.integrator_vbd.ForceElementAdjacencyInfo,\n",
    "    vertex_triangle_min_dist: wp.array(dtype=wp.float32),  # d_min,v \n",
    "    edge_edge_min_dist: wp.array(dtype=wp.float32),        # d_min,e \n",
    "    triangle_vertex_min_dist: wp.array(dtype=wp.float32),  # d_min,t \n",
    "    conservative_bounds: wp.array(dtype=wp.float32),       # output: b_v for each vertex\n",
    "    gamma_v: wp.float32 = 0.4  #  (0 < γ_v < 0.5)\n",
    "):\n",
    "    particle_idx = wp.tid()\n",
    "    \n",
    "    # vertex to triangle minimal distance)\n",
    "    d_min_v = vertex_triangle_min_dist[particle_idx]\n",
    "    \n",
    "    # minimal edge distance for this vertex\n",
    "    d_E_min_v = wp.float32(1e10)  # Initialize to large value\n",
    "    num_adj_edges = wp.sim.integrator_vbd.get_vertex_num_adjacent_edges(adjacency, particle_idx)\n",
    "    for edge_counter in range(num_adj_edges):\n",
    "        edge_idx, v_order = wp.sim.integrator_vbd.get_vertex_adjacent_edge_id_order(adjacency, particle_idx, edge_counter)\n",
    "        edge_min_dist = edge_edge_min_dist[edge_idx]\n",
    "        d_E_min_v = wp.min(d_E_min_v, edge_min_dist)\n",
    "    \n",
    "    # minimal triangle distance for this vertex\n",
    "    d_T_min_v = wp.float32(1e10)  # Initialize to large value\n",
    "    num_adj_faces = wp.sim.integrator_vbd.get_vertex_num_adjacent_faces(adjacency, particle_idx)\n",
    "    for face_counter in range(num_adj_faces):\n",
    "        adj_face_idx, vertex_order = wp.sim.integrator_vbd.get_vertex_adjacent_face_id_order(adjacency, particle_idx, face_counter)\n",
    "        triangle_min_dist = triangle_vertex_min_dist[adj_face_idx]\n",
    "        d_T_min_v = wp.min(d_T_min_v, triangle_min_dist)\n",
    "    \n",
    "    # Compute conservative bound: b_v = γ_v * min(d_min,v, d^E_min,v, d^T_min,v)\n",
    "    min_distance = wp.min(wp.min(d_min_v, d_E_min_v), d_T_min_v)\n",
    "    conservative_bounds[particle_idx] = gamma_v * min_distance\n",
    "\n",
    "conservative_bounds = wp.zeros(model.particle_count, dtype=wp.float32, device=device)\n",
    "\n",
    "# Launch the conservative bounds kernel\n",
    "wp.launch(\n",
    "    compute_conservative_bounds,\n",
    "    dim=model.particle_count,\n",
    "    inputs=[\n",
    "        vbd_integrator.adjacency,\n",
    "        colision_detector.vertex_colliding_triangles_min_dist,\n",
    "        colision_detector.edge_colliding_edges_min_dist, \n",
    "        colision_detector.triangle_colliding_vertices_min_dist,\n",
    "        conservative_bounds,\n",
    "        0.4  # gamma_v parameter\n",
    "    ],\n",
    "    device=device\n",
    ")\n",
    "\n",
    "print(\"Conservative bounds:\", conservative_bounds)"
   ]
  }
 ],
 "metadata": {
  "kernelspec": {
   "display_name": "ogcEnv",
   "language": "python",
   "name": "python3"
  },
  "language_info": {
   "codemirror_mode": {
    "name": "ipython",
    "version": 3
   },
   "file_extension": ".py",
   "mimetype": "text/x-python",
   "name": "python",
   "nbconvert_exporter": "python",
   "pygments_lexer": "ipython3",
   "version": "3.11.13"
  }
 },
 "nbformat": 4,
 "nbformat_minor": 5
}
